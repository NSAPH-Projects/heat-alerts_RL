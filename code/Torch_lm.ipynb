{
 "cells": [
  {
   "cell_type": "markdown",
   "metadata": {},
   "source": [
    "# Linear Model Using Pytorch\n",
    "\n",
    "With the blue cube to the left, load:\n",
    "\n",
    "python/3.8.5-fasrc01\n",
    "\n",
    "cuda/11.1.0-fasrc01"
   ]
  },
  {
   "cell_type": "code",
   "execution_count": 97,
   "metadata": {},
   "outputs": [],
   "source": [
    "# import os\n",
    "\n",
    "# os.chdir(\"/n/dominici_nsaph_l3/Lab/projects/heat-alerts_mortality_RL\")\n",
    "\n",
    "! python ~/Q_prep.py"
   ]
  },
  {
   "cell_type": "code",
   "execution_count": 100,
   "metadata": {},
   "outputs": [],
   "source": [
    "## Set up the model\n",
    "\n",
    "class LM(nn.Module):\n",
    "\n",
    "    def __init__(self, n_col) -> None:\n",
    "        super().__init__() # create parent object; always start with this line\n",
    "        self.lm1 = nn.Linear(in_features = n_col, out_features = 2) # returning Q0 and Q1\n",
    "\n",
    "    def forward(self, x):\n",
    "        return self.lm1(x)\n"
   ]
  },
  {
   "cell_type": "code",
   "execution_count": 99,
   "metadata": {},
   "outputs": [],
   "source": [
    "## Methods to evaluate the model\n",
    "\n",
    "def eval_Q(Q_model, S, over = None): \n",
    "\n",
    "    Q = Q_model(S) # n x 2\n",
    "\n",
    "    best_Q = torch.amax(Q, axis = 1) # n \n",
    "\n",
    "    if over is not None:\n",
    "        final_Q = torch.where(over, Q[:,0], best_Q) # n\n",
    "        return final_Q\n",
    "\n",
    "    return best_Q\n"
   ]
  },
  {
   "cell_type": "code",
   "execution_count": 110,
   "metadata": {},
   "outputs": [],
   "source": [
    "# S = pd.concat([S, S_OHE], axis = 1)\n",
    "# S_1 = pd.concat([S_1, S1_OHE], axis = 1)\n",
    "# A = Train[\"alert\"].drop(n_seq_s)\n",
    "# R = -1*(Train[\"N\"]*100000/Train[\"Pop.65\"]).drop(n_seq_s)\n",
    "# ep_end = Train[\"dos\"].drop(n_seq_s) == 152\n",
    "# over = over_budget[\"over_budget\"] == 1"
   ]
  },
  {
   "cell_type": "code",
   "execution_count": 111,
   "metadata": {},
   "outputs": [],
   "source": [
    "## Set up dataloader\n",
    "data = [S, A, R, S_1, ep_end, over]\n",
    "\n",
    "dev = \"cpu\"\n",
    "tensors = [torch.from_numpy(v.to_numpy()).to(dev) for v in data]\n",
    "\n",
    "DS = TensorDataset(*tensors)\n",
    "\n",
    "torch.manual_seed(321)\n",
    "\n",
    "DL = DataLoader(DS, batch_size = 256, shuffle = True, pin_memory = True)"
   ]
  },
  {
   "cell_type": "code",
   "execution_count": 124,
   "metadata": {},
   "outputs": [],
   "source": [
    "## Initialize the model\n",
    "\n",
    "state_dim = S.shape[1]\n",
    "num_episodes = n_counties*n_years\n",
    "# print(num_episodes)\n",
    "n = num_episodes*(n_days-1)\n",
    "\n",
    "model = LM(state_dim)\n",
    "model = model.to(dev)\n",
    "\n",
    "# optimizer = optim.Adam(model.parameters(), lr = 0.0001, betas=(0.25, 0.99))\n",
    "optimizer = optim.SGD(model.parameters(), lr = 0.01, momentum=0.25)\n",
    "\n",
    "update_tgt_every = 50\n",
    "print_every = 10\n",
    "tgt_model = deepcopy(model)\n"
   ]
  },
  {
   "cell_type": "code",
   "execution_count": 126,
   "metadata": {},
   "outputs": [
    {
     "name": "stdout",
     "output_type": "stream",
     "text": [
      "Epoch: 10, average loss: 4724728837.9891\n",
      "Epoch: 20, average loss: 5542307307.5387\n",
      "Epoch: 30, average loss: 4151222931.0307\n",
      "Epoch: 40, average loss: 4005975831.1364\n",
      "Epoch: 50, average loss: 3867103254.4621\n",
      "Epoch: 60, average loss: 4545562254.6225\n",
      "Epoch: 70, average loss: 4443974867.3666\n",
      "Epoch: 80, average loss: 4449320315.3674\n",
      "Epoch: 90, average loss: 4490840242.6070\n",
      "Epoch: 100, average loss: 4537398073.0068\n",
      "Epoch: 110, average loss: 4647731596.8625\n",
      "Epoch: 120, average loss: 4566985153.0555\n",
      "Epoch: 130, average loss: 4580853761.0167\n",
      "Epoch: 140, average loss: 4626488115.6801\n",
      "Epoch: 150, average loss: 4605612298.9862\n",
      "Epoch: 160, average loss: 3982370688.5375\n",
      "Epoch: 170, average loss: 3791969014.1553\n",
      "Epoch: 180, average loss: 3948942520.9745\n",
      "Epoch: 190, average loss: 3836193753.7231\n",
      "Epoch: 200, average loss: 3868277784.2960\n",
      "Epoch: 210, average loss: 4036362739.7070\n",
      "Epoch: 220, average loss: 4055888723.9326\n",
      "Epoch: 230, average loss: 3977848129.7364\n",
      "Epoch: 240, average loss: 4045788831.4896\n",
      "Epoch: 250, average loss: 4015125915.1868\n",
      "Epoch: 260, average loss: 3937336503.9209\n",
      "Epoch: 270, average loss: 3918225817.2658\n",
      "Epoch: 280, average loss: 5447489829.5798\n",
      "Epoch: 290, average loss: 4641338820.2535\n",
      "Epoch: 300, average loss: 4873062921.0483\n",
      "Epoch: 310, average loss: 3877332339.0400\n",
      "Epoch: 320, average loss: 3897662419.2066\n",
      "Epoch: 330, average loss: 4014689140.7610\n",
      "Epoch: 340, average loss: 3777181511.7926\n",
      "Epoch: 350, average loss: 3868195207.6627\n",
      "Epoch: 360, average loss: 5576426079.0180\n",
      "Epoch: 370, average loss: 4704911911.9329\n",
      "Epoch: 380, average loss: 5156093049.9679\n",
      "Epoch: 390, average loss: 4964442588.0357\n",
      "Epoch: 400, average loss: 5251355381.4500\n",
      "Epoch: 410, average loss: 3958531990.2129\n",
      "Epoch: 420, average loss: 4126472015.3905\n",
      "Epoch: 430, average loss: 4008863470.6163\n",
      "Epoch: 440, average loss: 4916350548.1874\n",
      "Epoch: 450, average loss: 5780469077.1526\n",
      "Epoch: 460, average loss: 3751143035.5186\n",
      "Epoch: 470, average loss: 3754004701.5409\n",
      "Epoch: 480, average loss: 3749122972.5767\n",
      "Epoch: 490, average loss: 3761039964.1170\n",
      "Epoch: 500, average loss: 3902772986.6457\n",
      "Epoch: 510, average loss: 5826545793.9068\n",
      "Epoch: 520, average loss: 3994095941.1516\n",
      "Epoch: 530, average loss: 5518147636.4116\n",
      "Epoch: 540, average loss: 4657594208.3293\n",
      "Epoch: 550, average loss: 4738969060.6662\n",
      "Epoch: 560, average loss: 5989076071.7052\n",
      "Epoch: 570, average loss: 5959539343.2822\n",
      "Epoch: 580, average loss: 6004135121.0935\n",
      "Epoch: 590, average loss: 5958105158.9325\n",
      "Epoch: 600, average loss: 6005141552.9282\n",
      "Epoch: 610, average loss: 3863581071.7079\n",
      "Epoch: 620, average loss: 3936928787.3336\n",
      "Epoch: 630, average loss: 3975322967.7959\n",
      "Epoch: 640, average loss: 3933284780.7496\n",
      "Epoch: 650, average loss: 3841696916.8590\n",
      "Epoch: 660, average loss: 4393647769.0456\n",
      "Epoch: 670, average loss: 4809801472.8674\n",
      "Epoch: 680, average loss: 4804924820.7244\n",
      "Epoch: 690, average loss: 4316180260.6032\n",
      "Epoch: 700, average loss: 4537119187.2812\n",
      "Epoch: 710, average loss: 4812052701.7889\n",
      "Epoch: 720, average loss: 4881133423.3469\n",
      "Epoch: 730, average loss: 4848560533.0565\n",
      "Epoch: 740, average loss: 4795504966.5669\n",
      "Epoch: 750, average loss: 4792261862.6011\n",
      "Epoch: 760, average loss: 4093606269.2105\n",
      "Epoch: 770, average loss: 4116913508.5981\n",
      "Epoch: 780, average loss: 4062818671.1739\n",
      "Epoch: 790, average loss: 4117987473.8764\n",
      "Epoch: 800, average loss: 4104156886.2088\n",
      "Epoch: 810, average loss: 5189083362.3806\n",
      "Epoch: 820, average loss: 4314476436.0052\n",
      "Epoch: 830, average loss: 4615823179.9882\n",
      "Epoch: 840, average loss: 4893536991.3766\n",
      "Epoch: 850, average loss: 4763004726.0888\n",
      "Epoch: 860, average loss: 3944067468.0493\n",
      "Epoch: 870, average loss: 3948044334.2409\n",
      "Epoch: 880, average loss: 3982728035.8448\n",
      "Epoch: 890, average loss: 3889233260.1669\n",
      "Epoch: 900, average loss: 3866084677.0775\n",
      "Epoch: 910, average loss: 4139319331.6278\n",
      "Epoch: 920, average loss: 4166689576.4283\n",
      "Epoch: 930, average loss: 4195025222.1086\n",
      "Epoch: 940, average loss: 4135539232.1955\n",
      "Epoch: 950, average loss: 4119443422.7932\n",
      "Epoch: 960, average loss: 4299025511.4697\n",
      "Epoch: 970, average loss: 4350394885.4023\n",
      "Epoch: 980, average loss: 4404261790.9368\n",
      "Epoch: 990, average loss: 4783764507.2645\n"
     ]
    }
   ],
   "source": [
    "## Train\n",
    "\n",
    "epochs = 1000\n",
    "\n",
    "epoch_loss_means = []\n",
    "for k in range(1, epochs):\n",
    "    l = []\n",
    "    iter = 1\n",
    "    for s, a, r, s1, e, over in tqdm(DL, disable=True):\n",
    "        with torch.no_grad():\n",
    "            target = r + gamma*(1-e.float())*eval_Q(tgt_model, s1.float(), over)\n",
    "\n",
    "        optimizer.zero_grad()\n",
    "\n",
    "        output = model(s.float()) # n x 2\n",
    "        q0 = output[:,0]\n",
    "        q1 = output[:,1]\n",
    "        Q = (1-a)*q0 + (a)*q1\n",
    "\n",
    "        # loss = F.mse_loss(Q, target)\n",
    "        loss = F.smooth_l1_loss(Q, target)  # huber loss as in DQN paper\n",
    "\n",
    "        loss.backward()\n",
    "        optimizer.step()\n",
    "        l.append(loss.item())\n",
    "        \n",
    "        iter+=1\n",
    "        if iter == 100:\n",
    "            break\n",
    "    \n",
    "    epoch_loss = np.mean(l)\n",
    "    epoch_loss_means.append(epoch_loss)\n",
    "    if k % print_every == 0:\n",
    "        print(f\"Epoch: {k}, average loss: {epoch_loss:.4f}\")\n",
    "\n",
    "    if k % update_tgt_every == 0:\n",
    "        tgt_model = deepcopy(model)\n"
   ]
  },
  {
   "cell_type": "code",
   "execution_count": 127,
   "metadata": {},
   "outputs": [
    {
     "data": {
      "image/png": "[encoded data removed]",
      "text/plain": [
       "<Figure size 640x480 with 1 Axes>"
      ]
     },
     "metadata": {},
     "output_type": "display_data"
    }
   ],
   "source": [
    "plt.scatter(range(len(epoch_loss_means)), epoch_loss_means)\n",
    "plt.show()"
   ]
  }
 ],
 "metadata": {
  "kernelspec": {
   "display_name": "Python [conda env:.conda-pt1.8_cuda111]",
   "language": "python",
   "name": "conda-env-.conda-pt1.8_cuda111-py"
  },
  "language_info": {
   "codemirror_mode": {
    "name": "ipython",
    "version": 3
   },
   "file_extension": ".py",
   "mimetype": "text/x-python",
   "name": "python",
   "nbconvert_exporter": "python",
   "pygments_lexer": "ipython3",
   "version": "3.8.13"
  }
 },
 "nbformat": 4,
 "nbformat_minor": 4
}
