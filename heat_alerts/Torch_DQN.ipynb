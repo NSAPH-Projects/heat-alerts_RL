{
 "cells": [
  {
   "cell_type": "markdown",
   "metadata": {},
   "source": [
    "# Linear Model Using Pytorch\n",
    "\n",
    "With the blue cube to the left, load:\n",
    "\n",
    "python/3.8.5-fasrc01\n",
    "\n",
    "cuda/11.1.0-fasrc01"
   ]
  },
  {
   "cell_type": "code",
   "execution_count": 97,
   "metadata": {},
   "outputs": [],
   "source": [
    "# import os\n",
    "\n",
    "# os.chdir(\"/n/dominici_nsaph_l3/Lab/projects/heat-alerts_mortality_RL\")\n",
    "\n",
    "! python ~/Q_prep.py"
   ]
  },
  {
   "cell_type": "code",
   "execution_count": 77,
   "metadata": {},
   "outputs": [],
   "source": [
    "## Set up the model\n",
    "\n",
    "class DQN(nn.Module):\n",
    "    def __init__(self, n_col) -> None:\n",
    "        super().__init__()\n",
    "        self.net = nn.Sequential(\n",
    "            nn.Linear(n_col, 32),\n",
    "            nn.SiLU(),\n",
    "            nn.Linear(32, 32),\n",
    "            nn.SiLU(),\n",
    "            nn.Linear(32, 2)\n",
    "        )\n",
    "\n",
    "    def forward(self, x):\n",
    "        return self.net(x)"
   ]
  },
  {
   "cell_type": "code",
   "execution_count": 78,
   "metadata": {},
   "outputs": [],
   "source": [
    "## Methods to evaluate the model\n",
    "\n",
    "def eval_Q_double(Q_model, Qtgt_model, S, over = None): \n",
    "\n",
    "    Q = Q_model(S) # n x 2\n",
    "    Qtgt = Qtgt_model(S) # n x 2\n",
    "    best_action = Q.argmax(axis=1).view(-1, 1)\n",
    "    best_Q = torch.gather(Qtgt, 1, best_action).view(-1) # n \n",
    "\n",
    "    if over is not None:\n",
    "        final_Q = torch.where(over, Qtgt[:,0], best_Q) # n\n",
    "        return final_Q\n",
    "\n",
    "    return best_Q"
   ]
  },
  {
   "cell_type": "code",
   "execution_count": null,
   "metadata": {},
   "outputs": [],
   "source": [
    "## Set up dataloader\n",
    "data = [S, A, R, S_1, ep_end, over]\n",
    "\n",
    "dev = \"cpu\"\n",
    "tensors = [torch.from_numpy(v.to_numpy()).to(dev) for v in data]\n",
    "\n",
    "DS = TensorDataset(*tensors)\n",
    "\n",
    "torch.manual_seed(321)\n",
    "\n",
    "DL = DataLoader(DS, batch_size = 256, shuffle = True, pin_memory = True)"
   ]
  },
  {
   "cell_type": "code",
   "execution_count": 1,
   "metadata": {},
   "outputs": [
    {
     "ename": "NameError",
     "evalue": "name 'S' is not defined",
     "output_type": "error",
     "traceback": [
      "\u001b[0;31m---------------------------------------------------------------------------\u001b[0m",
      "\u001b[0;31mNameError\u001b[0m                                 Traceback (most recent call last)",
      "Input \u001b[0;32mIn [1]\u001b[0m, in \u001b[0;36m<cell line: 3>\u001b[0;34m()\u001b[0m\n\u001b[1;32m      1\u001b[0m \u001b[38;5;66;03m## Initialize the model\u001b[39;00m\n\u001b[0;32m----> 3\u001b[0m state_dim \u001b[38;5;241m=\u001b[39m \u001b[43mS\u001b[49m\u001b[38;5;241m.\u001b[39mshape[\u001b[38;5;241m1\u001b[39m]\n\u001b[1;32m      4\u001b[0m num_episodes \u001b[38;5;241m=\u001b[39m n_counties\u001b[38;5;241m*\u001b[39mn_years\n\u001b[1;32m      5\u001b[0m \u001b[38;5;66;03m# print(num_episodes)\u001b[39;00m\n",
      "\u001b[0;31mNameError\u001b[0m: name 'S' is not defined"
     ]
    }
   ],
   "source": [
    "## Initialize the model\n",
    "\n",
    "state_dim = S.shape[1]\n",
    "num_episodes = n_counties*n_years\n",
    "# print(num_episodes)\n",
    "n = num_episodes*(n_days-1)\n",
    "\n",
    "model = DQN(state_dim)\n",
    "model = model.to(dev)\n",
    "\n",
    "# optimizer = optim.Adam(model.parameters(), lr = 0.0001, betas=(0.25, 0.99))\n",
    "optimizer = optim.SGD(model.parameters(), lr = 0.01, momentum=0.25)\n",
    "\n",
    "update_tgt_every = 50\n",
    "print_every = 10\n",
    "tgt_model = deepcopy(model)\n"
   ]
  },
  {
   "cell_type": "code",
   "execution_count": null,
   "metadata": {},
   "outputs": [],
   "source": [
    "## Train\n",
    "\n",
    "epochs = 2000\n",
    "\n",
    "epoch_loss_means = []\n",
    "for e in range(epochs):\n",
    "    l = []\n",
    "    iter = 1\n",
    "    for s, a, r, s1, e, over in tqdm(DL, disable=True):\n",
    "        with torch.no_grad():\n",
    "          # update with tgt copy model as in Double DQN paper\n",
    "          target = r + gamma*(1-e.float())*eval_Q_double(model, tgt_model, s1, over)\n",
    "\n",
    "        optimizer.zero_grad()\n",
    "\n",
    "        output = model(s) # n x 2\n",
    "        Q = torch.gather(output, 1, a.view(-1, 1)).view(-1)\n",
    "\n",
    "        # loss = F.mse_loss(Q, target)\n",
    "        loss = F.smooth_l1_loss(Q, target) # huber loss as in DQN paper\n",
    "\n",
    "        loss.backward()\n",
    "        optimizer.step()\n",
    "        l.append(loss.item())\n",
    "        \n",
    "        iter+=1\n",
    "        if iter == 100:\n",
    "            break\n",
    "\n",
    "    epoch_loss = np.mean(l)\n",
    "    epoch_loss_means.append(epoch_loss)\n",
    "    if e % print_every == 0:\n",
    "        print(f\"Epoch: {e}, average loss: {epoch_loss:.4f}\")\n",
    "\n",
    "    if e % update_tgt_every == 0:\n",
    "        tgt_model = deepcopy(model)\n",
    "  "
   ]
  }
 ],
 "metadata": {
  "kernelspec": {
   "display_name": "Python [conda env:.conda-pt1.8_cuda111]",
   "language": "python",
   "name": "conda-env-.conda-pt1.8_cuda111-py"
  },
  "language_info": {
   "codemirror_mode": {
    "name": "ipython",
    "version": 3
   },
   "file_extension": ".py",
   "mimetype": "text/x-python",
   "name": "python",
   "nbconvert_exporter": "python",
   "pygments_lexer": "ipython3",
   "version": "3.8.13"
  }
 },
 "nbformat": 4,
 "nbformat_minor": 4
}
